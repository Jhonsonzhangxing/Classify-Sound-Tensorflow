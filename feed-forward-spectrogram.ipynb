{
 "cells": [
  {
   "cell_type": "code",
   "execution_count": 11,
   "metadata": {
    "collapsed": true
   },
   "outputs": [],
   "source": [
    "import tensorflow as tf\n",
    "import numpy as np\n",
    "import matplotlib.mlab\n",
    "import scipy.io.wavfile\n",
    "import scipy\n",
    "import pandas as pd\n",
    "import time\n",
    "from sklearn import metrics\n",
    "import matplotlib.pyplot as plt\n",
    "import seaborn as sns\n",
    "sns.set()"
   ]
  },
  {
   "cell_type": "code",
   "execution_count": 2,
   "metadata": {},
   "outputs": [
    {
     "data": {
      "text/html": [
       "<div>\n",
       "<table border=\"1\" class=\"dataframe\">\n",
       "  <thead>\n",
       "    <tr style=\"text-align: right;\">\n",
       "      <th></th>\n",
       "      <th>slice_file_name</th>\n",
       "      <th>fsID</th>\n",
       "      <th>start</th>\n",
       "      <th>end</th>\n",
       "      <th>salience</th>\n",
       "      <th>fold</th>\n",
       "      <th>classID</th>\n",
       "      <th>class</th>\n",
       "    </tr>\n",
       "  </thead>\n",
       "  <tbody>\n",
       "    <tr>\n",
       "      <th>624</th>\n",
       "      <td>audio/fold7/110918-3-0-40.wav</td>\n",
       "      <td>110918</td>\n",
       "      <td>20.000000</td>\n",
       "      <td>24.000000</td>\n",
       "      <td>1</td>\n",
       "      <td>7</td>\n",
       "      <td>3</td>\n",
       "      <td>dog_bark</td>\n",
       "    </tr>\n",
       "    <tr>\n",
       "      <th>4079</th>\n",
       "      <td>audio/fold5/178686-0-0-21.wav</td>\n",
       "      <td>178686</td>\n",
       "      <td>10.500000</td>\n",
       "      <td>14.500000</td>\n",
       "      <td>2</td>\n",
       "      <td>5</td>\n",
       "      <td>0</td>\n",
       "      <td>air_conditioner</td>\n",
       "    </tr>\n",
       "    <tr>\n",
       "      <th>7930</th>\n",
       "      <td>audio/fold2/76086-4-0-53.wav</td>\n",
       "      <td>76086</td>\n",
       "      <td>26.500000</td>\n",
       "      <td>30.500000</td>\n",
       "      <td>1</td>\n",
       "      <td>2</td>\n",
       "      <td>4</td>\n",
       "      <td>drilling</td>\n",
       "    </tr>\n",
       "    <tr>\n",
       "      <th>5704</th>\n",
       "      <td>audio/fold4/22883-7-99-2.wav</td>\n",
       "      <td>22883</td>\n",
       "      <td>532.119811</td>\n",
       "      <td>536.119811</td>\n",
       "      <td>1</td>\n",
       "      <td>4</td>\n",
       "      <td>7</td>\n",
       "      <td>jackhammer</td>\n",
       "    </tr>\n",
       "    <tr>\n",
       "      <th>5591</th>\n",
       "      <td>audio/fold3/22601-8-0-12.wav</td>\n",
       "      <td>22601</td>\n",
       "      <td>6.000000</td>\n",
       "      <td>10.000000</td>\n",
       "      <td>2</td>\n",
       "      <td>3</td>\n",
       "      <td>8</td>\n",
       "      <td>siren</td>\n",
       "    </tr>\n",
       "  </tbody>\n",
       "</table>\n",
       "</div>"
      ],
      "text/plain": [
       "                    slice_file_name    fsID       start         end  salience  \\\n",
       "624   audio/fold7/110918-3-0-40.wav  110918   20.000000   24.000000         1   \n",
       "4079  audio/fold5/178686-0-0-21.wav  178686   10.500000   14.500000         2   \n",
       "7930   audio/fold2/76086-4-0-53.wav   76086   26.500000   30.500000         1   \n",
       "5704   audio/fold4/22883-7-99-2.wav   22883  532.119811  536.119811         1   \n",
       "5591   audio/fold3/22601-8-0-12.wav   22601    6.000000   10.000000         2   \n",
       "\n",
       "      fold  classID            class  \n",
       "624      7        3         dog_bark  \n",
       "4079     5        0  air_conditioner  \n",
       "7930     2        4         drilling  \n",
       "5704     4        7       jackhammer  \n",
       "5591     3        8            siren  "
      ]
     },
     "execution_count": 2,
     "metadata": {},
     "output_type": "execute_result"
    }
   ],
   "source": [
    "dataset = pd.read_csv('/home/husein/space/UrbanSound8K/metadata/UrbanSound8K.csv')\n",
    "dataset.slice_file_name = 'audio/fold' + dataset.fold.astype(str) + '/' + dataset.slice_file_name\n",
    "dataset = dataset.iloc[np.random.permutation(len(dataset))]\n",
    "dataset.head()"
   ]
  },
  {
   "cell_type": "code",
   "execution_count": 3,
   "metadata": {},
   "outputs": [
    {
     "data": {
      "text/plain": [
       "array(['air_conditioner', 'car_horn', 'children_playing', 'dog_bark',\n",
       "       'drilling', 'engine_idling', 'gun_shot', 'jackhammer', 'siren',\n",
       "       'street_music'], dtype=object)"
      ]
     },
     "execution_count": 3,
     "metadata": {},
     "output_type": "execute_result"
    }
   ],
   "source": [
    "unique_sound = np.unique(dataset.iloc[:, -1])\n",
    "unique_sound"
   ]
  },
  {
   "cell_type": "code",
   "execution_count": 4,
   "metadata": {
    "collapsed": true
   },
   "outputs": [],
   "source": [
    "# define our global variables\n",
    "learning_rate = 0.001\n",
    "sound_dimension = [64, 256]\n",
    "batch_size = 128\n",
    "epoch = 20"
   ]
  },
  {
   "cell_type": "code",
   "execution_count": 5,
   "metadata": {
    "collapsed": true
   },
   "outputs": [],
   "source": [
    "def processAudio(audio_file):\n",
    "    rate, data = scipy.io.wavfile.read(audio_file)\n",
    "    try:\n",
    "        if data.shape[1]:\n",
    "            data = np.mean(data, axis = 1)\n",
    "    except:\n",
    "        pass\n",
    "    audio = matplotlib.mlab.specgram(data)[0]\n",
    "    audio = scipy.misc.imresize(audio, sound_dimension)\n",
    "    return audio.flatten()"
   ]
  },
  {
   "cell_type": "code",
   "execution_count": 6,
   "metadata": {
    "collapsed": true
   },
   "outputs": [],
   "source": [
    "class Model:\n",
    "    def __init__(self, size_output):\n",
    "        self.X = tf.placeholder(tf.float32, (None, sound_dimension[0] * sound_dimension[1]))\n",
    "        self.Y = tf.placeholder(tf.float32, (None, size_output))\n",
    "        \n",
    "        w1 = tf.Variable(tf.random_normal([sound_dimension[0] * sound_dimension[1], 784], stddev = np.sqrt(1/784.0)))\n",
    "        b1 = tf.Variable(tf.random_normal([784], stddev = 0))\n",
    "        \n",
    "        w2 = tf.Variable(tf.random_normal([784, 256], stddev = np.sqrt(1/256.0)))\n",
    "        b2 = tf.Variable(tf.random_normal([256], stddev = 0))\n",
    "        \n",
    "        w3 = tf.Variable(tf.random_normal([256, 100], stddev = np.sqrt(1/100.0)))\n",
    "        b3 = tf.Variable(tf.random_normal([100], stddev = 0))\n",
    "        \n",
    "        w4 = tf.Variable(tf.random_normal([100, size_output], stddev = np.sqrt(1/(size_output * 1.0))))\n",
    "        b4 = tf.Variable(tf.random_normal([size_output], stddev = 0))\n",
    "        \n",
    "        hidden1 = tf.nn.relu(tf.matmul(self.X, w1) + b1)\n",
    "        hidden2 = tf.nn.relu(tf.matmul(hidden1, w2) + b2)\n",
    "        hidden3 = tf.nn.relu(tf.matmul(hidden2, w3) + b3)\n",
    "        self.logits = tf.matmul(hidden3, w4) + b4\n",
    "        self.cost = tf.reduce_mean(tf.nn.softmax_cross_entropy_with_logits(logits = self.logits, labels = self.Y))\n",
    "        self.optimizer = tf.train.AdamOptimizer(learning_rate).minimize(self.cost)\n",
    "        correct_prediction = tf.equal(tf.argmax(self.logits, 1), tf.argmax(self.Y, 1))\n",
    "        self.accuracy = tf.reduce_mean(tf.cast(correct_prediction, \"float\"))"
   ]
  },
  {
   "cell_type": "code",
   "execution_count": 7,
   "metadata": {
    "collapsed": true
   },
   "outputs": [],
   "source": [
    "no_classes = np.unique(dataset['classID']).shape[0]\n",
    "sess = tf.InteractiveSession()\n",
    "model = Model(no_classes)\n",
    "sess.run(tf.global_variables_initializer())\n",
    "saver = tf.train.Saver(tf.global_variables())\n",
    "\n",
    "train_dataset = dataset.iloc[:int(dataset.shape[0] * 0.80), :]\n",
    "test_dataset = dataset.iloc[int(dataset.shape[0] * 0.80):, :]"
   ]
  },
  {
   "cell_type": "code",
   "execution_count": 8,
   "metadata": {},
   "outputs": [
    {
     "name": "stdout",
     "output_type": "stream",
     "text": [
      "('epoch: ', 1, 'avg loss: ', 20.043897319723058, 'avg acc: ', 0.33875019903536197, 'avg time: ', 1.101916238113686)\n",
      "('epoch: ', 2, 'avg loss: ', 3.9210081939344055, 'avg acc: ', 0.45979938186981062, 'avg time: ', 1.0938507980770535)\n",
      "('epoch: ', 3, 'avg loss: ', 2.4020709925227695, 'avg acc: ', 0.57135890755388474, 'avg time: ', 1.0940373517848827)\n",
      "('epoch: ', 4, 'avg loss: ', 1.6694230922946223, 'avg acc: ', 0.63555111929222385, 'avg time: ', 1.0946411115151864)\n",
      "('epoch: ', 5, 'avg loss: ', 1.4083303599445909, 'avg acc: ', 0.6986393100685544, 'avg time: ', 1.0940247420911435)\n",
      "('epoch: ', 6, 'avg loss: ', 1.2402034920674783, 'avg acc: ', 0.71832755759910305, 'avg time: ', 1.094854054627595)\n",
      "('epoch: ', 7, 'avg loss: ', 1.1842816118840818, 'avg acc: ', 0.72968760243168584, 'avg time: ', 1.09525379869673)\n",
      "('epoch: ', 8, 'avg loss: ', 0.96113268865479362, 'avg acc: ', 0.77428424689504838, 'avg time: ', 1.0939563689408478)\n",
      "('epoch: ', 9, 'avg loss: ', 0.95829410575054308, 'avg acc: ', 0.80079369302149173, 'avg time: ', 1.0941099458270602)\n",
      "('epoch: ', 10, 'avg loss: ', 0.66663777221132203, 'avg acc: ', 0.83261856767866349, 'avg time: ', 1.094161448655305)\n",
      "('epoch: ', 11, 'avg loss: ', 0.65772765819673185, 'avg acc: ', 0.83091726347252171, 'avg time: ', 1.094027872438784)\n",
      "('epoch: ', 12, 'avg loss: ', 0.52407938186769132, 'avg acc: ', 0.86588583610675951, 'avg time: ', 1.0940158896976047)\n",
      "('epoch: ', 13, 'avg loss: ', 0.45249792767895591, 'avg acc: ', 0.87883494628800285, 'avg time: ', 1.094577219751146)\n",
      "('epoch: ', 14, 'avg loss: ', 0.43817107600194438, 'avg acc: ', 0.89480685415091343, 'avg time: ', 1.0946324622189556)\n",
      "('epoch: ', 15, 'avg loss: ', 0.45029789926829161, 'avg acc: ', 0.89129906120123692, 'avg time: ', 1.0937283524760493)\n",
      "('epoch: ', 16, 'avg loss: ', 0.39907829132344985, 'avg acc: ', 0.90352656443913781, 'avg time: ', 1.0946901286089863)\n",
      "('epoch: ', 17, 'avg loss: ', 0.37216426956432835, 'avg acc: ', 0.91431101715123209, 'avg time: ', 1.0944843336387917)\n",
      "('epoch: ', 18, 'avg loss: ', 1.2928022659487195, 'avg acc: ', 0.8898783679361697, 'avg time: ', 1.0938962433073256)\n",
      "('epoch: ', 19, 'avg loss: ', 1.1808490223354764, 'avg acc: ', 0.85711892777019072, 'avg time: ', 1.0937098308845803)\n",
      "('epoch: ', 20, 'avg loss: ', 0.76811474589286022, 'avg acc: ', 0.89140635287320169, 'avg time: ', 1.0935392953731395)\n"
     ]
    }
   ],
   "source": [
    "ACCURACY, LOST = [], []\n",
    "for i in range(epoch):\n",
    "    last = time.time()\n",
    "    total_acc, total_loss = 0, 0\n",
    "    for k in range(0, (train_dataset.shape[0] // batch_size) * batch_size, batch_size):\n",
    "        batch_x, batch_y = [], []\n",
    "        for n in range(batch_size):\n",
    "            try:\n",
    "                batch_x.append(processAudio(train_dataset.slice_file_name.iloc[k + n]))\n",
    "                onehot = np.zeros((no_classes))\n",
    "                onehot[train_dataset.classID.iloc[k + n]] = 1.0\n",
    "                batch_y.append(onehot)\n",
    "            except Exception as e:\n",
    "                continue\n",
    "        batch_x = np.array(batch_x)\n",
    "        batch_y = np.array(batch_y)\n",
    "        loss, _ = sess.run([model.cost, model.optimizer], feed_dict = {model.X: batch_x, model.Y: batch_y})\n",
    "        total_acc += sess.run(model.accuracy, feed_dict = {model.X: batch_x, model.Y: batch_y})\n",
    "        total_loss += loss\n",
    "    total_loss /= (train_dataset.shape[0] // batch_size)\n",
    "    total_acc /= (train_dataset.shape[0] // batch_size)\n",
    "    ACCURACY.append(total_acc)\n",
    "    LOST.append(total_loss)\n",
    "    print('epoch: ', i + 1, 'avg loss: ', total_loss, 'avg acc: ', total_acc, 'avg time: ', (time.time() - last) / (train_dataset.shape[0] // batch_size))"
   ]
  },
  {
   "cell_type": "code",
   "execution_count": 10,
   "metadata": {},
   "outputs": [
    {
     "name": "stdout",
     "output_type": "stream",
     "text": [
      "testing accuracy: 0.463215\n",
      "                  precision    recall  f1-score   support\n",
      "\n",
      " air_conditioner       0.41      0.32      0.36       105\n",
      "        car_horn       0.46      0.40      0.43        58\n",
      "children_playing       0.33      0.12      0.17       126\n",
      "        dog_bark       0.67      0.58      0.62       134\n",
      "        drilling       0.42      0.72      0.53       137\n",
      "   engine_idling       0.54      0.30      0.39       127\n",
      "        gun_shot       0.60      0.59      0.60        59\n",
      "      jackhammer       0.36      0.73      0.49       122\n",
      "           siren       0.57      0.74      0.64       114\n",
      "    street_music       0.31      0.13      0.19       119\n",
      "\n",
      "     avg / total       0.46      0.46      0.44      1101\n",
      "\n"
     ]
    }
   ],
   "source": [
    "batch_x, batch_y, labels = [], [], []\n",
    "for n in range(test_dataset.shape[0]):\n",
    "    try:\n",
    "        batch_x.append(processAudio(test_dataset.slice_file_name.iloc[n]))\n",
    "        onehot = np.zeros((no_classes))\n",
    "        onehot[test_dataset.classID.iloc[n]] = 1.0\n",
    "        batch_y.append(onehot)\n",
    "        labels.append(test_dataset.classID.iloc[n])\n",
    "    except Exception as e:\n",
    "        continue\n",
    "batch_x = np.array(batch_x)\n",
    "batch_y = np.array(batch_y)\n",
    "acc, logits = sess.run([model.accuracy, tf.cast(tf.argmax(model.logits, 1), tf.int32)], feed_dict = {model.X : batch_x, model.Y : batch_y})\n",
    "print 'testing accuracy: ' + str(acc)\n",
    "print(metrics.classification_report(labels, logits, target_names = np.unique(unique_sound)))"
   ]
  },
  {
   "cell_type": "code",
   "execution_count": 12,
   "metadata": {},
   "outputs": [
    {
     "data": {
      "image/png": "[encoded data removed]",
      "text/plain": [
       "<matplotlib.figure.Figure at 0x7f870803e450>"
      ]
     },
     "metadata": {},
     "output_type": "display_data"
    }
   ],
   "source": [
    "EPOCH = np.arange(len(LOST))\n",
    "plt.subplot(1, 2, 1)\n",
    "plt.plot(EPOCH, LOST)\n",
    "plt.xlabel('epoch'); plt.ylabel('loss')\n",
    "plt.subplot(1, 2, 2)\n",
    "plt.plot(EPOCH, ACCURACY)\n",
    "plt.xlabel('epoch'); plt.ylabel('accuracy')\n",
    "plt.show()"
   ]
  },
  {
   "cell_type": "code",
   "execution_count": null,
   "metadata": {
    "collapsed": true
   },
   "outputs": [],
   "source": []
  }
 ],
 "metadata": {
  "kernelspec": {
   "display_name": "Python 2",
   "language": "python",
   "name": "python2"
  },
  "language_info": {
   "codemirror_mode": {
    "name": "ipython",
    "version": 2
   },
   "file_extension": ".py",
   "mimetype": "text/x-python",
   "name": "python",
   "nbconvert_exporter": "python",
   "pygments_lexer": "ipython2",
   "version": "2.7.12"
  }
 },
 "nbformat": 4,
 "nbformat_minor": 2
}
